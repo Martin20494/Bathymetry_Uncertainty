{
 "cells": [
  {
   "cell_type": "markdown",
   "id": "17468053",
   "metadata": {},
   "source": [
    "## PREPARATION"
   ]
  },
  {
   "cell_type": "markdown",
   "id": "075dc421",
   "metadata": {},
   "source": [
    "#### 0. Change directory"
   ]
  },
  {
   "cell_type": "code",
   "execution_count": 1,
   "id": "39c2b9e6",
   "metadata": {},
   "outputs": [],
   "source": [
    "# Reference: https://stackoverflow.com/questions/15514593/importerror-no-module-named-when-trying-to-run-python-script/15622021#15622021\n",
    "import sys\n",
    "# sys.path.append(r'S:\\Bathymetry_Uncertainty6_newflowmanning\\LISFLOOD_FP\\Analysis')\n",
    "sys.path.append(r'S:\\Bathymetry_Uncertainty18_combination_rmse\\LISFLOOD_FP\\Analysis')"
   ]
  },
  {
   "cell_type": "markdown",
   "id": "1d7b0b59",
   "metadata": {},
   "source": [
    "#### 1. Packages"
   ]
  },
  {
   "cell_type": "code",
   "execution_count": 2,
   "id": "b82a046d",
   "metadata": {},
   "outputs": [],
   "source": [
    "from folder import *\n",
    "\n",
    "# Packages for flowdepth values extraction\n",
    "from depthValue import *\n",
    "\n",
    "# Packages for impact calculation\n",
    "from impactCalculation import water_raster_nobackground, \\\n",
    "                              watermap_onepolygon_parallelism \n",
    "\n",
    "# Packages for variation calculation\n",
    "from statisticCalculation import calculation_dict\n",
    "\n",
    "# Packages for plotting map\n",
    "from statisticPlot import *\n",
    "import matplotlib.pyplot as plt\n",
    "\n",
    "# For raster/polygon manipulation\n",
    "import rioxarray as rxr\n",
    "import geopandas as gpd\n",
    "import pandas as pd"
   ]
  },
  {
   "cell_type": "markdown",
   "id": "82cfd200",
   "metadata": {},
   "source": [
    "#### 2. Data preparation"
   ]
  },
  {
   "cell_type": "code",
   "execution_count": 3,
   "id": "2c2d1d39",
   "metadata": {},
   "outputs": [],
   "source": [
    "# Resolution\n",
    "resolution = 10\n",
    "\n",
    "# Time to extract flowdepth (for flowdepth_extraction() function)\n",
    "extract_wd = \"out.max\"\n",
    "extract_wse = \"out.mxe\"\n",
    "extract_elev = \"elev\"\n",
    "\n",
    "# Flood rate\n",
    "flood_rate = 0.1\n",
    "\n",
    "# Building path\n",
    "building_path = fr\"S:\\\\Bathymetry\\\\versions\\\\data\\\\buildings\\\\lds-nz-building-outlines-all-sources-SHP_002.zip\"\n",
    "building_data = gpd.read_file(building_path)\n",
    "\n",
    "# Terrain path \n",
    "terrain_data = rxr.open_rasterio(fr\"{original_lidar_path}\\\\shading\\\\terrain_shading.tiff\")"
   ]
  },
  {
   "cell_type": "markdown",
   "id": "d0be2324",
   "metadata": {},
   "source": [
    "----------------------------------------------------------------"
   ]
  },
  {
   "cell_type": "code",
   "execution_count": 4,
   "id": "1f71c2aa",
   "metadata": {},
   "outputs": [],
   "source": [
    "# %%time\n",
    "# pts_extraction_df, validation_df = get_geoforRMSE_parallelism(10)"
   ]
  },
  {
   "cell_type": "code",
   "execution_count": 5,
   "id": "1e9b50f0",
   "metadata": {},
   "outputs": [],
   "source": [
    "# %%time\n",
    "# df_wse = get_water_parallelism(30, extract_wse)"
   ]
  },
  {
   "cell_type": "code",
   "execution_count": 6,
   "id": "2161d637",
   "metadata": {},
   "outputs": [],
   "source": [
    "# %%time\n",
    "# df_elev = get_water_parallelism(30, extract_elev)"
   ]
  },
  {
   "cell_type": "code",
   "execution_count": 7,
   "id": "de653674",
   "metadata": {},
   "outputs": [],
   "source": [
    "# %%time\n",
    "# df_wd = get_water_parallelism(30, extract_wd)"
   ]
  },
  {
   "cell_type": "markdown",
   "id": "41f4134d",
   "metadata": {},
   "source": [
    "## WATER SURFACE ELEVATION"
   ]
  },
  {
   "cell_type": "markdown",
   "id": "ba78a4f9",
   "metadata": {},
   "source": [
    "#### 3. Execution"
   ]
  },
  {
   "cell_type": "markdown",
   "id": "cd8e1de0",
   "metadata": {},
   "source": [
    "#### 3.1. CSV generation"
   ]
  },
  {
   "cell_type": "code",
   "execution_count": 8,
   "id": "36bdbec3",
   "metadata": {},
   "outputs": [],
   "source": [
    "# # Flow\n",
    "# df_wse = pd.read_csv(r\"S:\\Bathymetry\\versions010\\neal_combination_001\\5_analysis\\wse\\bathy_csv\\all_simulations.csv\")"
   ]
  },
  {
   "cell_type": "markdown",
   "id": "d6ef1988",
   "metadata": {},
   "source": [
    "#### 3.2. Impact calculation"
   ]
  },
  {
   "cell_type": "code",
   "execution_count": 9,
   "id": "8d676ad5",
   "metadata": {},
   "outputs": [],
   "source": [
    "# %%time\n",
    "# water_raster_nobackground(df_wse, flood_rate, extract_wse)"
   ]
  },
  {
   "cell_type": "code",
   "execution_count": 10,
   "id": "ec9325fd",
   "metadata": {},
   "outputs": [],
   "source": [
    "# %%time\n",
    "# watermap_onepolygon_parallelism(df_wse, flood_rate, 30, extract_wse)"
   ]
  },
  {
   "cell_type": "markdown",
   "id": "e1eee2af",
   "metadata": {},
   "source": [
    "#### 3.3. Variation calculation"
   ]
  },
  {
   "cell_type": "code",
   "execution_count": 11,
   "id": "e96d5376",
   "metadata": {},
   "outputs": [],
   "source": [
    "# %%time\n",
    "# statistic_dict = calculation_dict(\n",
    "#     df_wse, resolution,\n",
    "#     building_path,\n",
    "#     flood_rate,\n",
    "#     extract_wse, -9999,\n",
    "#     False\n",
    "# )"
   ]
  },
  {
   "cell_type": "code",
   "execution_count": 12,
   "id": "2f77ef58",
   "metadata": {},
   "outputs": [],
   "source": [
    "# statistic_dict['mae'].T"
   ]
  },
  {
   "cell_type": "code",
   "execution_count": 13,
   "id": "fee43a48",
   "metadata": {},
   "outputs": [],
   "source": [
    "# statistic_dict['rmse'].T"
   ]
  },
  {
   "cell_type": "markdown",
   "id": "9a7e4907",
   "metadata": {},
   "source": [
    "#### 3.4. Map plotting"
   ]
  },
  {
   "cell_type": "code",
   "execution_count": 14,
   "id": "385bc977",
   "metadata": {
    "scrolled": false
   },
   "outputs": [],
   "source": [
    "# %%time\n",
    "# map_plotting_wse(\n",
    "#     ['mean', 'sd', 'cv', 'cell'],\n",
    "#     building_data,\n",
    "#     terrain_data,\n",
    "#     extract_wse\n",
    "# )"
   ]
  },
  {
   "cell_type": "markdown",
   "id": "3f9b0f15",
   "metadata": {},
   "source": [
    "#### 3.5. Buildings and areas plotting"
   ]
  },
  {
   "cell_type": "code",
   "execution_count": 15,
   "id": "7ee5f727",
   "metadata": {},
   "outputs": [],
   "source": [
    "# area_plotting_only(\n",
    "#     (10, 7),\n",
    "#     statistic_dict['area'],\n",
    "#     [0.05, 0.95],\n",
    "#     'area'\n",
    "# )"
   ]
  },
  {
   "cell_type": "code",
   "execution_count": 16,
   "id": "d0a5a9fa",
   "metadata": {},
   "outputs": [],
   "source": [
    "# building_plotting_only(\n",
    "#     (10, 7),\n",
    "#     statistic_dict['building'],\n",
    "#     [0.2, 0.95],\n",
    "#     'building'\n",
    "# )"
   ]
  },
  {
   "cell_type": "code",
   "execution_count": 17,
   "id": "1a72f494",
   "metadata": {
    "scrolled": false
   },
   "outputs": [],
   "source": [
    "# area_building_plotting(\n",
    "#     (10, 7),\n",
    "#     statistic_dict['area'],\n",
    "#     [0.7, 0.95],\n",
    "#     'area'\n",
    "# )"
   ]
  },
  {
   "cell_type": "code",
   "execution_count": 18,
   "id": "7ee65fd0",
   "metadata": {
    "scrolled": false
   },
   "outputs": [],
   "source": [
    "# area_building_plotting(\n",
    "#     (10, 7),\n",
    "#     statistic_dict['building'],\n",
    "#     [0.7, 0.95],\n",
    "#     'building'\n",
    "# )"
   ]
  },
  {
   "cell_type": "markdown",
   "id": "8f61b72c",
   "metadata": {},
   "source": [
    "------------------------------------------------------------------"
   ]
  },
  {
   "cell_type": "markdown",
   "id": "dd875b95",
   "metadata": {},
   "source": [
    "## WATER DEPTH"
   ]
  },
  {
   "cell_type": "markdown",
   "id": "e11ba7ff",
   "metadata": {},
   "source": [
    "##### 5.1. CSV generation"
   ]
  },
  {
   "cell_type": "code",
   "execution_count": 19,
   "id": "8c4a4f93",
   "metadata": {},
   "outputs": [],
   "source": [
    "# Flow\n",
    "df_wd = pd.read_csv(r\"S:\\Bathymetry\\versions010\\neal_combination_001\\5_analysis\\wd\\bathy_csv\\all_simulations.csv\")"
   ]
  },
  {
   "cell_type": "markdown",
   "id": "fbecb427",
   "metadata": {},
   "source": [
    "##### 5.2. Impact calculation"
   ]
  },
  {
   "cell_type": "code",
   "execution_count": 20,
   "id": "904d9198",
   "metadata": {},
   "outputs": [],
   "source": [
    "# %%time\n",
    "# water_raster_nobackground(df_wd, flood_rate, extract_wd)"
   ]
  },
  {
   "cell_type": "code",
   "execution_count": 21,
   "id": "c2b7b1bb",
   "metadata": {},
   "outputs": [],
   "source": [
    "# %%time\n",
    "# watermap_onepolygon_parallelism(df_wd, flood_rate, 30, extract_wd)"
   ]
  },
  {
   "cell_type": "markdown",
   "id": "c844c8e7",
   "metadata": {},
   "source": [
    "##### 5.3. Variation calculation"
   ]
  },
  {
   "cell_type": "code",
   "execution_count": 22,
   "id": "a9d00c76",
   "metadata": {},
   "outputs": [
    {
     "name": "stdout",
     "output_type": "stream",
     "text": [
      "CPU times: total: 30.7 s\n",
      "Wall time: 39.6 s\n"
     ]
    }
   ],
   "source": [
    "%%time\n",
    "statistic_dict_wd = calculation_dict(\n",
    "    df_wd, resolution,\n",
    "    building_path,\n",
    "    flood_rate,\n",
    "    extract_wd, -9999,\n",
    "    False\n",
    ")"
   ]
  },
  {
   "cell_type": "markdown",
   "id": "21a9990d",
   "metadata": {},
   "source": [
    "##### 5.4. Map plotting"
   ]
  },
  {
   "cell_type": "code",
   "execution_count": 27,
   "id": "9e4cb101",
   "metadata": {
    "scrolled": false
   },
   "outputs": [],
   "source": [
    "# %%time\n",
    "# map_plotting_wd(\n",
    "#     ['mean', 'sd', 'cv', 'cell'],\n",
    "#     building_data,\n",
    "#     terrain_data,\n",
    "#     extract_wd\n",
    "# )"
   ]
  },
  {
   "cell_type": "markdown",
   "id": "45324418",
   "metadata": {},
   "source": [
    "##### 5.5. Buildings and Areas plotting"
   ]
  },
  {
   "cell_type": "code",
   "execution_count": 32,
   "id": "993c8d54",
   "metadata": {},
   "outputs": [
    {
     "data": {
      "image/png": "[encoded data removed]",
      "text/plain": [
       "<Figure size 1000x700 with 1 Axes>"
      ]
     },
     "metadata": {},
     "output_type": "display_data"
    }
   ],
   "source": [
    "area_plotting_only(\n",
    "    (10, 7),\n",
    "    statistic_dict_wd['area'],\n",
    "    [0.55, 0.96],\n",
    "    'area'\n",
    ")"
   ]
  },
  {
   "cell_type": "code",
   "execution_count": 29,
   "id": "24012d25",
   "metadata": {},
   "outputs": [],
   "source": [
    "# area_building_plotting(\n",
    "#     (10, 7),\n",
    "#     statistic_dict_wd['area'],\n",
    "#     [0.3, 0.95],\n",
    "#     'area'\n",
    "# )"
   ]
  },
  {
   "cell_type": "code",
   "execution_count": null,
   "id": "8740449b",
   "metadata": {},
   "outputs": [],
   "source": [
    "# area_building_plotting(\n",
    "#     (10, 15),\n",
    "#     statistic_dict_wd['building'],\n",
    "#     [0.3, 0.95],\n",
    "#     'building'\n",
    "# )"
   ]
  }
 ],
 "metadata": {
  "kernelspec": {
   "display_name": "Python [conda env:mluncertainty_001] *",
   "language": "python",
   "name": "conda-env-mluncertainty_001-py"
  },
  "language_info": {
   "codemirror_mode": {
    "name": "ipython",
    "version": 3
   },
   "file_extension": ".py",
   "mimetype": "text/x-python",
   "name": "python",
   "nbconvert_exporter": "python",
   "pygments_lexer": "ipython3",
   "version": "3.9.13"
  }
 },
 "nbformat": 4,
 "nbformat_minor": 5
}

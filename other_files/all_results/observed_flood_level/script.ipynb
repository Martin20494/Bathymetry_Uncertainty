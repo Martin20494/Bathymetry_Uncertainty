{
 "cells": [
  {
   "cell_type": "markdown",
   "id": "b528baeb",
   "metadata": {},
   "source": [
    "#### PREPARATION"
   ]
  },
  {
   "cell_type": "code",
   "execution_count": 28,
   "id": "54e6ed29",
   "metadata": {},
   "outputs": [],
   "source": [
    "# Reference: https://stackoverflow.com/questions/15514593/importerror-no-module-named-when-trying-to-run-python-script/15622021#15622021\n",
    "import sys\n",
    "sys.path.append(r'S:\\\\')"
   ]
  },
  {
   "cell_type": "code",
   "execution_count": 29,
   "id": "b67f8471",
   "metadata": {},
   "outputs": [],
   "source": [
    "import os\n",
    "\n",
    "import numpy as np\n",
    "import pandas as pd\n",
    "\n",
    "import rasterio as rio\n",
    "import xarray as xr\n",
    "import rioxarray as rxr\n",
    "\n",
    "import geopandas as gpd\n",
    "\n",
    "from rasterio.features import shapes\n",
    "\n",
    "from sklearn.metrics import mean_squared_error\n",
    "\n",
    "import seaborn as sns\n",
    "sns.set_style(\"whitegrid\", {'axes.grid' : False})\n",
    "sns.set_style(\"ticks\") # Ref: https://seaborn.pydata.org/tutorial/aesthetics.html\n",
    "\n",
    "import matplotlib.pyplot as plt\n",
    "import matplotlib.gridspec as gridspec # For creating grid spec"
   ]
  },
  {
   "cell_type": "code",
   "execution_count": 30,
   "id": "b4ad6837",
   "metadata": {},
   "outputs": [],
   "source": [
    "main_dir = r\"S:\\Bathymetry\\versions010\\validation\\neal\""
   ]
  },
  {
   "cell_type": "markdown",
   "id": "68aa1371",
   "metadata": {},
   "source": [
    "-------------------------------------"
   ]
  },
  {
   "cell_type": "markdown",
   "id": "b1a2eeb3",
   "metadata": {},
   "source": [
    "#### VALIDATION"
   ]
  },
  {
   "cell_type": "markdown",
   "id": "3b3d9ce2",
   "metadata": {},
   "source": [
    "#### 1. Get functions"
   ]
  },
  {
   "cell_type": "code",
   "execution_count": 31,
   "id": "e7a3efe9",
   "metadata": {},
   "outputs": [],
   "source": [
    "# Ref: https://gis.stackexchange.com/questions/317391/python-extract-raster-values-at-point-locations\n",
    "def point_raster_join(pts_df, path):\n",
    "    '''A function is to get values from raster at the points'''\n",
    "    coords = [(x, y) for x, y in zip(pts_df.x, pts_df.y)]\n",
    "    mx_depth = rio.open(path)\n",
    "    pts_list = [x[0] for x in mx_depth.sample(coords)]\n",
    "    return pts_list"
   ]
  },
  {
   "cell_type": "code",
   "execution_count": 32,
   "id": "8e20e8d9",
   "metadata": {},
   "outputs": [],
   "source": [
    "def get_dict(value_name, iterative_range, filename, observed_df):\n",
    "    '''A function is to get values from multiple rasters at the points'''\n",
    "    calibration_dict = {}\n",
    "    # Looping to get data\n",
    "    for i in range(len(iterative_range)):\n",
    "        # Get dataframe\n",
    "        path = fr\"{main_dir}\\\\n_{n_calibration[i]}\\\\{filename}\"\n",
    "        calibration_df = observed_df.copy(deep=True)\n",
    "        calibration_df[f'{value_name}'] = point_raster_join(calibration_df, path)\n",
    "        calibration_df[f'{value_name}'] = calibration_df[f'{value_name}'].replace(-9999, np.nan)\n",
    "        calibration_dict[f\"n_{n_calibration[i]}\"] = calibration_df[['level', f\"{value_name}\"]]\n",
    "    return calibration_dict"
   ]
  },
  {
   "cell_type": "markdown",
   "id": "271a50f1",
   "metadata": {},
   "source": [
    "#### 2. Get observed data"
   ]
  },
  {
   "cell_type": "code",
   "execution_count": 33,
   "id": "7add5ce4",
   "metadata": {},
   "outputs": [
    {
     "name": "stderr",
     "output_type": "stream",
     "text": [
      "C:\\Users\\tmn52\\AppData\\Local\\Temp\\ipykernel_26600\\4029149510.py:6: SettingWithCopyWarning: \n",
      "A value is trying to be set on a copy of a slice from a DataFrame\n",
      "\n",
      "See the caveats in the documentation: https://pandas.pydata.org/pandas-docs/stable/user_guide/indexing.html#returning-a-view-versus-a-copy\n",
      "  debris_df.rename(columns={'X':'x', 'Y':'y', 'level_':'level'}, inplace=True)\n"
     ]
    }
   ],
   "source": [
    "# Get observed data\n",
    "obs_data_df = gpd.read_file(fr\"{main_dir}\\2005b_Flood.shp\")\n",
    "# Choose geometry and level\n",
    "debris_df = obs_data_df[['geometry', 'X', 'Y', 'level_']]\n",
    "# Rename\n",
    "debris_df.rename(columns={'X':'x', 'Y':'y', 'level_':'level'}, inplace=True)\n",
    "# Copy the dataframe and call it validation dataframe\n",
    "validation_df = debris_df.copy(deep=True)"
   ]
  },
  {
   "cell_type": "code",
   "execution_count": 34,
   "id": "0aa50874",
   "metadata": {},
   "outputs": [
    {
     "data": {
      "text/plain": [
       "(32, 18)"
      ]
     },
     "execution_count": 34,
     "metadata": {},
     "output_type": "execute_result"
    }
   ],
   "source": [
    "obs_data_df.shape"
   ]
  },
  {
   "cell_type": "code",
   "execution_count": 35,
   "id": "dcb7539d",
   "metadata": {},
   "outputs": [
    {
     "data": {
      "text/html": [
       "<div>\n",
       "<style scoped>\n",
       "    .dataframe tbody tr th:only-of-type {\n",
       "        vertical-align: middle;\n",
       "    }\n",
       "\n",
       "    .dataframe tbody tr th {\n",
       "        vertical-align: top;\n",
       "    }\n",
       "\n",
       "    .dataframe thead th {\n",
       "        text-align: right;\n",
       "    }\n",
       "</style>\n",
       "<table border=\"1\" class=\"dataframe\">\n",
       "  <thead>\n",
       "    <tr style=\"text-align: right;\">\n",
       "      <th></th>\n",
       "      <th>geometry</th>\n",
       "      <th>x</th>\n",
       "      <th>y</th>\n",
       "      <th>level</th>\n",
       "    </tr>\n",
       "  </thead>\n",
       "  <tbody>\n",
       "    <tr>\n",
       "      <th>0</th>\n",
       "      <td>POINT (1769595.050 5472746.640)</td>\n",
       "      <td>1769595.05</td>\n",
       "      <td>5472746.64</td>\n",
       "      <td>2.203</td>\n",
       "    </tr>\n",
       "    <tr>\n",
       "      <th>1</th>\n",
       "      <td>POINT (1769703.530 5472851.610)</td>\n",
       "      <td>1769703.53</td>\n",
       "      <td>5472851.61</td>\n",
       "      <td>2.559</td>\n",
       "    </tr>\n",
       "    <tr>\n",
       "      <th>2</th>\n",
       "      <td>POINT (1769770.480 5473021.640)</td>\n",
       "      <td>1769770.48</td>\n",
       "      <td>5473021.64</td>\n",
       "      <td>2.677</td>\n",
       "    </tr>\n",
       "    <tr>\n",
       "      <th>3</th>\n",
       "      <td>POINT (1769902.520 5472848.810)</td>\n",
       "      <td>1769902.52</td>\n",
       "      <td>5472848.81</td>\n",
       "      <td>3.124</td>\n",
       "    </tr>\n",
       "    <tr>\n",
       "      <th>4</th>\n",
       "      <td>POINT (1769420.780 5473245.410)</td>\n",
       "      <td>1769420.78</td>\n",
       "      <td>5473245.41</td>\n",
       "      <td>1.635</td>\n",
       "    </tr>\n",
       "    <tr>\n",
       "      <th>5</th>\n",
       "      <td>POINT (1770036.680 5472870.030)</td>\n",
       "      <td>1770036.68</td>\n",
       "      <td>5472870.03</td>\n",
       "      <td>3.800</td>\n",
       "    </tr>\n",
       "    <tr>\n",
       "      <th>6</th>\n",
       "      <td>POINT (1770093.230 5472756.470)</td>\n",
       "      <td>1770093.23</td>\n",
       "      <td>5472756.47</td>\n",
       "      <td>3.792</td>\n",
       "    </tr>\n",
       "    <tr>\n",
       "      <th>7</th>\n",
       "      <td>POINT (1770191.100 5472671.230)</td>\n",
       "      <td>1770191.10</td>\n",
       "      <td>5472671.23</td>\n",
       "      <td>4.424</td>\n",
       "    </tr>\n",
       "    <tr>\n",
       "      <th>8</th>\n",
       "      <td>POINT (1770358.080 5472791.900)</td>\n",
       "      <td>1770358.08</td>\n",
       "      <td>5472791.90</td>\n",
       "      <td>4.586</td>\n",
       "    </tr>\n",
       "    <tr>\n",
       "      <th>9</th>\n",
       "      <td>POINT (1770891.560 5472949.040)</td>\n",
       "      <td>1770891.56</td>\n",
       "      <td>5472949.04</td>\n",
       "      <td>5.014</td>\n",
       "    </tr>\n",
       "    <tr>\n",
       "      <th>10</th>\n",
       "      <td>POINT (1771100.940 5473028.140)</td>\n",
       "      <td>1771100.94</td>\n",
       "      <td>5473028.14</td>\n",
       "      <td>5.325</td>\n",
       "    </tr>\n",
       "    <tr>\n",
       "      <th>11</th>\n",
       "      <td>POINT (1771495.660 5473065.580)</td>\n",
       "      <td>1771495.66</td>\n",
       "      <td>5473065.58</td>\n",
       "      <td>6.002</td>\n",
       "    </tr>\n",
       "    <tr>\n",
       "      <th>12</th>\n",
       "      <td>POINT (1771555.680 5472987.760)</td>\n",
       "      <td>1771555.68</td>\n",
       "      <td>5472987.76</td>\n",
       "      <td>6.537</td>\n",
       "    </tr>\n",
       "    <tr>\n",
       "      <th>13</th>\n",
       "      <td>POINT (1771492.870 5473015.680)</td>\n",
       "      <td>1771492.87</td>\n",
       "      <td>5473015.68</td>\n",
       "      <td>6.672</td>\n",
       "    </tr>\n",
       "    <tr>\n",
       "      <th>14</th>\n",
       "      <td>POINT (1772003.060 5472603.150)</td>\n",
       "      <td>1772003.06</td>\n",
       "      <td>5472603.15</td>\n",
       "      <td>10.287</td>\n",
       "    </tr>\n",
       "    <tr>\n",
       "      <th>15</th>\n",
       "      <td>POINT (1772829.810 5472362.060)</td>\n",
       "      <td>1772829.81</td>\n",
       "      <td>5472362.06</td>\n",
       "      <td>14.868</td>\n",
       "    </tr>\n",
       "    <tr>\n",
       "      <th>16</th>\n",
       "      <td>POINT (1772528.300 5472378.070)</td>\n",
       "      <td>1772528.30</td>\n",
       "      <td>5472378.07</td>\n",
       "      <td>13.019</td>\n",
       "    </tr>\n",
       "    <tr>\n",
       "      <th>17</th>\n",
       "      <td>POINT (1772319.030 5472465.390)</td>\n",
       "      <td>1772319.03</td>\n",
       "      <td>5472465.39</td>\n",
       "      <td>12.377</td>\n",
       "    </tr>\n",
       "    <tr>\n",
       "      <th>18</th>\n",
       "      <td>POINT (1772962.430 5472271.290)</td>\n",
       "      <td>1772962.43</td>\n",
       "      <td>5472271.29</td>\n",
       "      <td>16.172</td>\n",
       "    </tr>\n",
       "    <tr>\n",
       "      <th>19</th>\n",
       "      <td>POINT (1773261.360 5472217.460)</td>\n",
       "      <td>1773261.36</td>\n",
       "      <td>5472217.46</td>\n",
       "      <td>17.475</td>\n",
       "    </tr>\n",
       "    <tr>\n",
       "      <th>20</th>\n",
       "      <td>POINT (1773380.330 5472273.690)</td>\n",
       "      <td>1773380.33</td>\n",
       "      <td>5472273.69</td>\n",
       "      <td>21.178</td>\n",
       "    </tr>\n",
       "    <tr>\n",
       "      <th>21</th>\n",
       "      <td>POINT (1773417.620 5472295.910)</td>\n",
       "      <td>1773417.62</td>\n",
       "      <td>5472295.91</td>\n",
       "      <td>19.880</td>\n",
       "    </tr>\n",
       "    <tr>\n",
       "      <th>22</th>\n",
       "      <td>POINT (1773620.650 5472391.430)</td>\n",
       "      <td>1773620.65</td>\n",
       "      <td>5472391.43</td>\n",
       "      <td>20.792</td>\n",
       "    </tr>\n",
       "    <tr>\n",
       "      <th>23</th>\n",
       "      <td>POINT (1770154.380 5472647.710)</td>\n",
       "      <td>1770154.38</td>\n",
       "      <td>5472647.71</td>\n",
       "      <td>4.424</td>\n",
       "    </tr>\n",
       "    <tr>\n",
       "      <th>24</th>\n",
       "      <td>POINT (1770035.950 5472740.430)</td>\n",
       "      <td>1770035.95</td>\n",
       "      <td>5472740.43</td>\n",
       "      <td>3.940</td>\n",
       "    </tr>\n",
       "    <tr>\n",
       "      <th>25</th>\n",
       "      <td>POINT (1770037.760 5472739.590)</td>\n",
       "      <td>1770037.76</td>\n",
       "      <td>5472739.59</td>\n",
       "      <td>3.487</td>\n",
       "    </tr>\n",
       "    <tr>\n",
       "      <th>26</th>\n",
       "      <td>POINT (1770067.100 5472736.090)</td>\n",
       "      <td>1770067.10</td>\n",
       "      <td>5472736.09</td>\n",
       "      <td>4.002</td>\n",
       "    </tr>\n",
       "    <tr>\n",
       "      <th>27</th>\n",
       "      <td>POINT (1770025.100 5472745.610)</td>\n",
       "      <td>1770025.10</td>\n",
       "      <td>5472745.61</td>\n",
       "      <td>4.012</td>\n",
       "    </tr>\n",
       "    <tr>\n",
       "      <th>28</th>\n",
       "      <td>POINT (1769731.360 5472375.120)</td>\n",
       "      <td>1769731.36</td>\n",
       "      <td>5472375.12</td>\n",
       "      <td>3.514</td>\n",
       "    </tr>\n",
       "    <tr>\n",
       "      <th>29</th>\n",
       "      <td>POINT (1769981.840 5472366.800)</td>\n",
       "      <td>1769981.84</td>\n",
       "      <td>5472366.80</td>\n",
       "      <td>4.266</td>\n",
       "    </tr>\n",
       "    <tr>\n",
       "      <th>30</th>\n",
       "      <td>POINT (1769982.900 5472359.130)</td>\n",
       "      <td>1769982.90</td>\n",
       "      <td>5472359.13</td>\n",
       "      <td>4.196</td>\n",
       "    </tr>\n",
       "    <tr>\n",
       "      <th>31</th>\n",
       "      <td>POINT (1769983.180 5472337.890)</td>\n",
       "      <td>1769983.18</td>\n",
       "      <td>5472337.89</td>\n",
       "      <td>4.251</td>\n",
       "    </tr>\n",
       "  </tbody>\n",
       "</table>\n",
       "</div>"
      ],
      "text/plain": [
       "                           geometry           x           y   level\n",
       "0   POINT (1769595.050 5472746.640)  1769595.05  5472746.64   2.203\n",
       "1   POINT (1769703.530 5472851.610)  1769703.53  5472851.61   2.559\n",
       "2   POINT (1769770.480 5473021.640)  1769770.48  5473021.64   2.677\n",
       "3   POINT (1769902.520 5472848.810)  1769902.52  5472848.81   3.124\n",
       "4   POINT (1769420.780 5473245.410)  1769420.78  5473245.41   1.635\n",
       "5   POINT (1770036.680 5472870.030)  1770036.68  5472870.03   3.800\n",
       "6   POINT (1770093.230 5472756.470)  1770093.23  5472756.47   3.792\n",
       "7   POINT (1770191.100 5472671.230)  1770191.10  5472671.23   4.424\n",
       "8   POINT (1770358.080 5472791.900)  1770358.08  5472791.90   4.586\n",
       "9   POINT (1770891.560 5472949.040)  1770891.56  5472949.04   5.014\n",
       "10  POINT (1771100.940 5473028.140)  1771100.94  5473028.14   5.325\n",
       "11  POINT (1771495.660 5473065.580)  1771495.66  5473065.58   6.002\n",
       "12  POINT (1771555.680 5472987.760)  1771555.68  5472987.76   6.537\n",
       "13  POINT (1771492.870 5473015.680)  1771492.87  5473015.68   6.672\n",
       "14  POINT (1772003.060 5472603.150)  1772003.06  5472603.15  10.287\n",
       "15  POINT (1772829.810 5472362.060)  1772829.81  5472362.06  14.868\n",
       "16  POINT (1772528.300 5472378.070)  1772528.30  5472378.07  13.019\n",
       "17  POINT (1772319.030 5472465.390)  1772319.03  5472465.39  12.377\n",
       "18  POINT (1772962.430 5472271.290)  1772962.43  5472271.29  16.172\n",
       "19  POINT (1773261.360 5472217.460)  1773261.36  5472217.46  17.475\n",
       "20  POINT (1773380.330 5472273.690)  1773380.33  5472273.69  21.178\n",
       "21  POINT (1773417.620 5472295.910)  1773417.62  5472295.91  19.880\n",
       "22  POINT (1773620.650 5472391.430)  1773620.65  5472391.43  20.792\n",
       "23  POINT (1770154.380 5472647.710)  1770154.38  5472647.71   4.424\n",
       "24  POINT (1770035.950 5472740.430)  1770035.95  5472740.43   3.940\n",
       "25  POINT (1770037.760 5472739.590)  1770037.76  5472739.59   3.487\n",
       "26  POINT (1770067.100 5472736.090)  1770067.10  5472736.09   4.002\n",
       "27  POINT (1770025.100 5472745.610)  1770025.10  5472745.61   4.012\n",
       "28  POINT (1769731.360 5472375.120)  1769731.36  5472375.12   3.514\n",
       "29  POINT (1769981.840 5472366.800)  1769981.84  5472366.80   4.266\n",
       "30  POINT (1769982.900 5472359.130)  1769982.90  5472359.13   4.196\n",
       "31  POINT (1769983.180 5472337.890)  1769983.18  5472337.89   4.251"
      ]
     },
     "execution_count": 35,
     "metadata": {},
     "output_type": "execute_result"
    }
   ],
   "source": [
    "validation_df"
   ]
  },
  {
   "cell_type": "code",
   "execution_count": 36,
   "id": "bd6d468c",
   "metadata": {},
   "outputs": [],
   "source": [
    "# VERSION NOT COUNTING FOR ERRORS FROM DATA COLLECTION\n",
    "obs_data_df_copy = obs_data_df.drop(index=[\n",
    "    20,\n",
    "    2, 6, 7, 11, 15, 17, 25, 26, 27 # SAME errors from python\n",
    "])\n",
    "obs_data_df_copy.to_file(fr\"S:\\Bathymetry\\versions010\\validation\\2005t_Flood.shp\", crs=2193)"
   ]
  },
  {
   "cell_type": "code",
   "execution_count": 27,
   "id": "aab94fe6",
   "metadata": {},
   "outputs": [],
   "source": [
    "# VERSION NOT COUNTING FOR ERRORS FROM DATA COLLECTION\n",
    "obs_data_df_copy = obs_data_df.drop(index=[\n",
    "    12, 13, 20, 24,\n",
    "    2, 6, 7, 11, 15, 17, 25, 26, 27 # SAME errors from python\n",
    "])\n",
    "obs_data_df_copy.to_file(fr\"S:\\Bathymetry\\versions010\\validation\\2005s_Flood.shp\", crs=2193)"
   ]
  },
  {
   "cell_type": "code",
   "execution_count": 18,
   "id": "9b5924e6",
   "metadata": {},
   "outputs": [],
   "source": [
    "# VERSION NOT COUNTING FOR ERRORS FROM DATA COLLECTION\n",
    "obs_data_df_copy = obs_data_df.drop(index=[\n",
    "    2, 6, 7, 11, 15, 17, 25, 26, 27 # SAME errors from python\n",
    "])\n",
    "obs_data_df_copy.to_file(fr\"S:\\Bathymetry\\versions010\\validation\\2005r_Flood.shp\", crs=2193)"
   ]
  },
  {
   "cell_type": "code",
   "execution_count": 9,
   "id": "3bba8d14",
   "metadata": {},
   "outputs": [],
   "source": [
    "# VERSION NOT COUNTING FOR ERRORS FROM DATA COLLECTION\n",
    "obs_data_df_copy = obs_data_df.drop(index=[\n",
    "    2, 4, 5, 6, 7, 11, 15, 16, 17, 26, 25, 27, # SAME errors from python\n",
    "    20, 30, 31 # outliers errors from python\n",
    "])\n",
    "obs_data_df_copy.to_file(fr\"S:\\Bathymetry\\versions010\\validation\\2005q_Flood.shp\", crs=2193)"
   ]
  },
  {
   "cell_type": "code",
   "execution_count": null,
   "id": "4ed7545c",
   "metadata": {},
   "outputs": [],
   "source": [
    "obs_data_df_copy = obs_data_df.drop(index=[\n",
    "    2, 4, 5, 6, 7, 11, 15, 16, 17, 25, 27, # SAME errors from python\n",
    "    30, 31 # outliers errors from python\n",
    "])\n",
    "obs_data_df_copy.to_file(fr\"S:\\Bathymetry\\versions010\\validation\\2005o_Flood.shp\", crs=2193)"
   ]
  },
  {
   "cell_type": "code",
   "execution_count": null,
   "id": "f1cfdd59",
   "metadata": {
    "scrolled": true
   },
   "outputs": [],
   "source": [
    "# VERSION COUNTING FOR ERRORS FROM DATA COLLECTION & FROM PYTHON\n",
    "obs_data_df_copy = obs_data_df.drop(index=[\n",
    "    11, 12, 13, 20, 24, 25, 26, 27, # errors from data collection\n",
    "    2, 4, 5, 6, 7, 15, 16, 17, 30, 31 # errors from python\n",
    "])\n",
    "obs_data_df_copy.to_file(fr\"S:\\Bathymetry\\versions010\\validation\\2005n_Flood.shp\", crs=2193)"
   ]
  },
  {
   "cell_type": "code",
   "execution_count": null,
   "id": "64b08996",
   "metadata": {},
   "outputs": [],
   "source": [
    "# Choose geometry and level\n",
    "debris_df = obs_data_df_copy[['geometry', 'X', 'Y', 'level_']]\n",
    "# Rename\n",
    "debris_df.rename(columns={'X':'x', 'Y':'y', 'level_':'level'}, inplace=True)\n",
    "# Copy the dataframe and call it validation dataframe\n",
    "validation_df = debris_df.copy(deep=True)"
   ]
  },
  {
   "cell_type": "code",
   "execution_count": null,
   "id": "6dcbaa86",
   "metadata": {},
   "outputs": [],
   "source": [
    "validation_df"
   ]
  },
  {
   "cell_type": "code",
   "execution_count": null,
   "id": "c5943755",
   "metadata": {},
   "outputs": [],
   "source": [
    "obs_data_df_copy = obs_data_df.drop(index=[2, 7, 12, 13, 11, 15, 17, 20, 24, 25, 26, 27, 30, 31])\n",
    "obs_data_df_copy.to_file(fr\"S:\\Bathymetry\\versions010\\validation\\2005k_Flood.shp\", crs=2193)"
   ]
  },
  {
   "cell_type": "code",
   "execution_count": null,
   "id": "9a5f8bfb",
   "metadata": {},
   "outputs": [],
   "source": [
    "obs_data_df_copy = obs_data_df.drop(index=[2, 7, 12, 13, 15, 17, 19, 20, 24, 25, 26, 27, 30, 31])\n",
    "obs_data_df_copy.to_file(fr\"S:\\Bathymetry\\versions010\\validation\\2005g_Flood.shp\", crs=2193)"
   ]
  },
  {
   "cell_type": "code",
   "execution_count": null,
   "id": "b4cafef3",
   "metadata": {},
   "outputs": [],
   "source": [
    "## The best one\n",
    "obs_data_df_copy = obs_data_df.drop(index=[2, 7, 12, 13, 15, 17, 19, 20, 24, 25, 26, 27, 30, 31])\n",
    "obs_data_df_copy.to_file(fr\"S:\\Bathymetry\\versions010\\validation\\2005g_Flood.shp\", crs=2193)"
   ]
  },
  {
   "cell_type": "code",
   "execution_count": null,
   "id": "20954256",
   "metadata": {},
   "outputs": [],
   "source": [
    "obs_data_df_copy = obs_data_df.drop(index=[2, 7, 12, 13, 15, 17, 19, 20, 24, 25, 26, 27])\n",
    "obs_data_df_copy.to_file(fr\"S:\\Bathymetry\\versions010\\validation\\2005f_Flood.shp\", crs=2193)"
   ]
  },
  {
   "cell_type": "code",
   "execution_count": null,
   "id": "f0f7d5f2",
   "metadata": {},
   "outputs": [],
   "source": [
    "obs_data_df_copy = obs_data_df.drop(index=[2, 7, 12, 13, 17, 19, 20, 24, 25, 26, 27])\n",
    "obs_data_df_copy.to_file(fr\"S:\\Bathymetry\\versions010\\validation\\2005d_Flood.shp\", crs=2193)"
   ]
  },
  {
   "cell_type": "code",
   "execution_count": null,
   "id": "3520178b",
   "metadata": {},
   "outputs": [],
   "source": [
    "debris_df_copy = debris_df.drop(index=[12, 13, 20, 24, 25, 26, 27])"
   ]
  },
  {
   "cell_type": "code",
   "execution_count": null,
   "id": "687c8b87",
   "metadata": {},
   "outputs": [],
   "source": [
    "debris_df_copy.to_file(fr\"S:\\Bathymetry\\versions010\\validation\\2005a_Flood.shp\", crs=2193)"
   ]
  },
  {
   "cell_type": "code",
   "execution_count": null,
   "id": "42e8431f",
   "metadata": {},
   "outputs": [],
   "source": [
    "%%time\n",
    "# Get level from model results\n",
    "validation_df['mxe'] = point_raster_join(debris_df, fr\"{main_dir}\\neal_flood_result.nc\")"
   ]
  },
  {
   "cell_type": "markdown",
   "id": "cef7c6a9",
   "metadata": {},
   "source": [
    "#### 3. Calculate errors"
   ]
  },
  {
   "cell_type": "code",
   "execution_count": null,
   "id": "99372560",
   "metadata": {},
   "outputs": [],
   "source": [
    "# Calculate the error\n",
    "validation_df_copy = validation_df.copy(deep=True)\n",
    "validation_df_copy['error'] = validation_df['mxe'] - validation_df_copy['level']"
   ]
  },
  {
   "cell_type": "code",
   "execution_count": null,
   "id": "815f83dc",
   "metadata": {},
   "outputs": [],
   "source": [
    "validation_df_copy_filter = validation_df_copy.loc[\n",
    "    validation_df_copy['error'] >= -5, :\n",
    "]"
   ]
  },
  {
   "cell_type": "code",
   "execution_count": null,
   "id": "389374fa",
   "metadata": {},
   "outputs": [],
   "source": [
    "# Get avarge error and avarage absolute error\n",
    "print(validation_df_copy_filter['error'].mean())\n",
    "print(validation_df_copy_filter['error'].abs().mean())"
   ]
  },
  {
   "cell_type": "markdown",
   "id": "40e7f17d",
   "metadata": {},
   "source": [
    "#### 4. Get plot"
   ]
  },
  {
   "cell_type": "code",
   "execution_count": null,
   "id": "5ebc1b8d",
   "metadata": {},
   "outputs": [],
   "source": [
    "# Validate with mxe and rmse\n",
    "validation_mxe_mse = mean_squared_error(validation_df.level, validation_df.mxe, squared=True)\n",
    "validation_mxe_rmse = mean_squared_error(validation_df.level, validation_df.mxe, squared=False)"
   ]
  },
  {
   "cell_type": "code",
   "execution_count": null,
   "id": "37282d0d",
   "metadata": {},
   "outputs": [],
   "source": [
    "# Plot\n",
    "fig, ax = plt.subplots(figsize=(7, 7))\n",
    "\n",
    "# Size for title and label\n",
    "fontsize = 14\n",
    "labelpad = 21\n",
    "\n",
    "# Plot\n",
    "sns.regplot(x='level', y='mxe', data=validation_df,\n",
    "            scatter_kws={\"s\": 50, 'edgecolor': 'black', 'color':'deeppink', 'linewidth':.7},\n",
    "            line_kws={'color':'darkred', 'linewidth':1.5}, marker='o', ci=95, ax=ax)\n",
    "\n",
    "# Adjust x and y labels\n",
    "ax.set_xlabel(\"Observed data - Level (m)\", fontsize=fontsize, labelpad=labelpad)\n",
    "ax.set_ylabel(\"Predicted data -\\nmaximum water surface elevation (m)\", rotation=-270, fontsize=fontsize, labelpad=labelpad+5)\n",
    "\n",
    "# Set up ticks\n",
    "ax.set_yticks(np.arange(2.5, 21, 2.5))\n",
    "\n",
    "# For frame\n",
    "for spine in ax.spines.values():\n",
    "    spine.set_edgecolor('black')\n",
    "    \n",
    "# Set up ticks\n",
    "for item in (ax.get_xticklabels() + ax.get_yticklabels()):  # For x, y ticks' labels\n",
    "    item.set_fontsize(fontsize-3)\n",
    "ax.tick_params(direction='out', length=5, pad=labelpad-17)\n",
    "    \n",
    "\n",
    "title_error = \"MSE:\\n\\nRMSE:\"\n",
    "error = f\"{validation_mxe_mse:.3f}\\n\\n{validation_mxe_rmse:.3f}\"\n",
    "\n",
    "# Error added into the text\n",
    "# Ref: https://github.com/matplotlib/matplotlib/issues/253/\n",
    "#      https://stackoverflow.com/questions/67366092/valueerror-alignment-not-allowed-in-string-format-specifier-sometimes-not\n",
    "#      https://stackoverflow.com/questions/8234445/format-output-string-right-alignment\n",
    "ax.text(\n",
    "    .1, .8, # Control the text on the x axis and y axis\n",
    "    title_error,\n",
    "    size=fontsize-2, ha='left', color='black', transform=ax.transAxes\n",
    ")\n",
    "ax.text(\n",
    "    .22, .8, # Control the text on the x axis and y axis\n",
    "    error,\n",
    "    size=fontsize-2, ha='left', color='black', transform=ax.transAxes\n",
    ")\n",
    "\n",
    "plt.savefig(fr\"{main_dir}\\validation_result.png\", bbox_inches='tight', dpi=600)"
   ]
  }
 ],
 "metadata": {
  "kernelspec": {
   "display_name": "Python [conda env:mluncertainty_001] *",
   "language": "python",
   "name": "conda-env-mluncertainty_001-py"
  },
  "language_info": {
   "codemirror_mode": {
    "name": "ipython",
    "version": 3
   },
   "file_extension": ".py",
   "mimetype": "text/x-python",
   "name": "python",
   "nbconvert_exporter": "python",
   "pygments_lexer": "ipython3",
   "version": "3.9.13"
  }
 },
 "nbformat": 4,
 "nbformat_minor": 5
}

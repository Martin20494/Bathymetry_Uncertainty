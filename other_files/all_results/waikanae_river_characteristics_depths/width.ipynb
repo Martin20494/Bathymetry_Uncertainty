{
 "cells": [
  {
   "cell_type": "code",
   "execution_count": 1,
   "id": "85e5ed9b",
   "metadata": {},
   "outputs": [],
   "source": [
    "import pathlib\n",
    "import geopandas\n",
    "import geopandas as gpd\n",
    "import pandas\n",
    "import numpy\n",
    "import numpy as np\n",
    "import pandas as pd\n",
    "\n",
    "from scipy.stats import truncnorm\n",
    "from scipy import stats\n",
    "import seaborn as sns\n",
    "\n",
    "import random\n",
    "\n",
    "import matplotlib.pyplot as plt\n",
    "\n",
    "from matplotlib.patches import Polygon\n",
    "import seaborn as sns "
   ]
  },
  {
   "cell_type": "code",
   "execution_count": 2,
   "id": "6368edf6",
   "metadata": {},
   "outputs": [],
   "source": [
    "def polygon(axes, x1, y1, x2, y2, c):\n",
    "    \"\"\"\n",
    "    @Definition:\n",
    "                A function to create polygon\n",
    "    @Arguments:\n",
    "                axes (matplotlib axis):\n",
    "                            Axis of matplotlib subplot\n",
    "                x1, y1, x2, y2 (float):\n",
    "                            Coordinates of head (x1, y1) and tail (x2, y2) in matplotlib plot\n",
    "                c (each color in cmap):\n",
    "                            Each color in cmap\n",
    "    @Returns:\n",
    "                None\n",
    "    \"\"\"\n",
    "    # Make the PDF become a colorbar\n",
    "    y1=y2=0.03\n",
    "    \n",
    "    # Create polygon\n",
    "    polygon = Polygon(\n",
    "        [(x1, y1), (x2, y2), (x2, 0), (x1, 0)], color=c\n",
    "    )\n",
    "\n",
    "    # Add polygon into patch\n",
    "    axes.add_patch(polygon)\n",
    "    \n",
    "def rainbow_fill_sns(axes, bin_data, X, Y, ylimit, cmap):\n",
    "    \"\"\"\n",
    "    @Definition:\n",
    "                A function to create polygon\n",
    "    @Arguments:\n",
    "                axes (matplotlib axis):\n",
    "                            Axis of matplotlib subplot\n",
    "                bin_data (array):\n",
    "                            An array of quantiles\n",
    "                ylimit (float):\n",
    "                            Value represents the limit of y axis\n",
    "                X, Y (float):\n",
    "                            Two list of x and y labels of density plot\n",
    "                cmap (each color in cmap):\n",
    "                            Cmap color\n",
    "    @Returns:\n",
    "                None\n",
    "    \"\"\"\n",
    "    # Get the size of the data (how many values)\n",
    "    N = Y.size\n",
    "\n",
    "    # Create sub-color from main color\n",
    "    kde_df = pd.DataFrame(data={'kde':X}) # Create dataframe for labels of x axis\n",
    "    kde_df['color'] = pd.cut(\n",
    "        kde_df['kde'], bin_data,\n",
    "        labels=[cmap(x/(bin_data.size-2)) for x in range(bin_data.size-1)],\n",
    "        ordered=False\n",
    "    ) # Create groups following range of values from bin_data and label it with sub-color\n",
    "    kde_df['color'][0] = kde_df['color'][1] # Color the first group otherwise it would be Nan\n",
    "\n",
    "    # Make the bottom x axis start at 0 of y axis\n",
    "    axes.set_ylim(top=ylimit, bottom=0)\n",
    "\n",
    "    # Plot each vertical color\n",
    "    for n, (x, y) in enumerate(zip(X, Y)):\n",
    "        # Use polygon\n",
    "        if n+1 == N: continue\n",
    "        polygon(axes, x, y, X[n+1], Y[n+1], kde_df['color'][n])"
   ]
  },
  {
   "cell_type": "markdown",
   "id": "c7ce1e0b",
   "metadata": {},
   "source": [
    "### Rupp"
   ]
  },
  {
   "cell_type": "code",
   "execution_count": 3,
   "id": "6199829c",
   "metadata": {},
   "outputs": [],
   "source": [
    "rupp_coords = pd.read_csv(fr\"S:\\Bathymetry\\version012\\rupp_width_001\\1_bathy\\bathy_analyses\\coord_width_rupp.csv\")\n",
    "rupp_width_simulations = pd.read_csv(fr\"S:\\Bathymetry\\version012\\rupp_width_001\\1_bathy\\bathy_analyses\\para_width_rupp.csv\")\n",
    "rupp_depth_simulations = pd.read_csv(fr\"S:\\Bathymetry\\versions010\\rupp_width_001\\1_bathy\\bathy_analyses\\depth_width_rupp.csv\")\n",
    "rupp_ori_para = pd.read_csv(fr\"S:\\Bathymetry\\versions010\\rupp_width_001\\1_bathy\\bathy_analyses\\original_para_widths_mean_0.25km.csv\")\n",
    "rupp_ori_depth_bed_wse = pd.read_csv(fr\"S:\\Bathymetry\\versions010\\rupp_width_001\\1_bathy\\bathy_analyses\\ori_depth_bed_wse.csv\")"
   ]
  },
  {
   "cell_type": "code",
   "execution_count": 4,
   "id": "0e9fecac",
   "metadata": {},
   "outputs": [],
   "source": [
    "rupp_coords_filter = rupp_coords[:675].copy(deep=True)\n",
    "rupp_width_simulations_filter = rupp_width_simulations[:675].copy(deep=True)\n",
    "rupp_depth_simulations_filter = rupp_depth_simulations[:675].copy(deep=True)\n",
    "rupp_ori_para_filter = rupp_ori_para[:675].copy(deep=True)\n",
    "rupp_ori_depth_bed_wse_filter = rupp_ori_depth_bed_wse[:675].copy(deep=True)"
   ]
  },
  {
   "cell_type": "code",
   "execution_count": 5,
   "id": "88123c08",
   "metadata": {},
   "outputs": [],
   "source": [
    "rupp_width_simulations_filter_copy = rupp_width_simulations_filter.copy(deep=True)\n",
    "rupp_depth_simulations_filter_copy = rupp_depth_simulations_filter.copy(deep=True)\n",
    "rupp_ori_para_filter_copy = rupp_ori_para_filter.copy(deep=True)\n",
    "rupp_ori_depth_bed_wse_filter_copy = rupp_ori_depth_bed_wse_filter.copy(deep=True)"
   ]
  },
  {
   "cell_type": "code",
   "execution_count": 6,
   "id": "45a654f9",
   "metadata": {},
   "outputs": [],
   "source": [
    "rupp_width_simulations_filter_copy['mean'] = rupp_width_simulations_filter.mean(axis=1)\n",
    "rupp_width_simulations_filter_copy['sd'] = rupp_width_simulations_filter.std(axis=1)\n",
    "rupp_width_simulations_filter_copy['cv'] = rupp_width_simulations_filter.std(axis=1) / rupp_width_simulations_filter.mean(axis=1) * 100"
   ]
  },
  {
   "cell_type": "code",
   "execution_count": 7,
   "id": "48d8f41b",
   "metadata": {},
   "outputs": [],
   "source": [
    "rupp_depth_simulations_filter_copy['mean'] = rupp_depth_simulations_filter.mean(axis=1)\n",
    "rupp_depth_simulations_filter_copy['sd'] = rupp_depth_simulations_filter.std(axis=1)\n",
    "rupp_depth_simulations_filter_copy['cv'] = rupp_depth_simulations_filter.std(axis=1) / rupp_depth_simulations_filter.mean(axis=1) * 100"
   ]
  },
  {
   "cell_type": "markdown",
   "id": "aa224734",
   "metadata": {},
   "source": [
    "### Neal"
   ]
  },
  {
   "cell_type": "code",
   "execution_count": 8,
   "id": "bde022ee",
   "metadata": {},
   "outputs": [],
   "source": [
    "neal_coords = pd.read_csv(fr\"S:\\Bathymetry\\version012\\neal_width_001\\1_bathy\\bathy_analyses\\coord_width_neal.csv\")\n",
    "neal_width_simulations = pd.read_csv(fr\"S:\\Bathymetry\\version012\\neal_width_001\\1_bathy\\bathy_analyses\\para_width_neal.csv\")\n",
    "neal_depth_simulations = pd.read_csv(fr\"S:\\Bathymetry\\versions010\\neal_width_001\\1_bathy\\bathy_analyses\\depth_width_neal.csv\")\n",
    "neal_ori_para = pd.read_csv(fr\"S:\\Bathymetry\\versions010\\neal_width_001\\1_bathy\\bathy_analyses\\original_para_widths_mean_0.25km.csv\")\n",
    "neal_ori_depth_bed_wse = pd.read_csv(fr\"S:\\Bathymetry\\versions010\\neal_width_001\\1_bathy\\bathy_analyses\\ori_depth_bed_wse.csv\")"
   ]
  },
  {
   "cell_type": "code",
   "execution_count": 9,
   "id": "4cec8085",
   "metadata": {},
   "outputs": [],
   "source": [
    "neal_coords_filter = neal_coords[:675].copy(deep=True)\n",
    "neal_width_simulations_filter = neal_width_simulations[:675].copy(deep=True)\n",
    "neal_depth_simulations_filter = neal_depth_simulations[:675].copy(deep=True)\n",
    "neal_ori_para_filter = neal_ori_para[:675].copy(deep=True)\n",
    "neal_ori_depth_bed_wse_filter = neal_ori_depth_bed_wse[:675].copy(deep=True)"
   ]
  },
  {
   "cell_type": "code",
   "execution_count": 10,
   "id": "ffffc6b2",
   "metadata": {},
   "outputs": [],
   "source": [
    "neal_width_simulations_filter_copy = neal_width_simulations_filter.copy(deep=True)\n",
    "neal_depth_simulations_filter_copy = neal_depth_simulations_filter.copy(deep=True)\n",
    "neal_ori_para_filter_copy = neal_ori_para_filter.copy(deep=True)\n",
    "neal_ori_depth_bed_wse_filter_copy = neal_ori_depth_bed_wse_filter.copy(deep=True)"
   ]
  },
  {
   "cell_type": "code",
   "execution_count": 11,
   "id": "3bfc5222",
   "metadata": {},
   "outputs": [],
   "source": [
    "neal_width_simulations_filter_copy['mean'] = neal_width_simulations_filter.mean(axis=1)\n",
    "neal_width_simulations_filter_copy['sd'] = neal_width_simulations_filter.std(axis=1)\n",
    "neal_width_simulations_filter_copy['cv'] = neal_width_simulations_filter.std(axis=1) / neal_width_simulations_filter.mean(axis=1) * 100"
   ]
  },
  {
   "cell_type": "code",
   "execution_count": 12,
   "id": "5514dc4b",
   "metadata": {},
   "outputs": [],
   "source": [
    "neal_depth_simulations_filter_copy['mean'] = neal_depth_simulations_filter.mean(axis=1)\n",
    "neal_depth_simulations_filter_copy['sd'] = neal_depth_simulations_filter.std(axis=1)\n",
    "neal_depth_simulations_filter_copy['cv'] = neal_depth_simulations_filter.std(axis=1) / neal_depth_simulations_filter.mean(axis=1) * 100"
   ]
  },
  {
   "cell_type": "markdown",
   "id": "cc1d065c",
   "metadata": {},
   "source": [
    "--------------------------------------------------------------"
   ]
  },
  {
   "cell_type": "code",
   "execution_count": 13,
   "id": "1b24b7b9",
   "metadata": {},
   "outputs": [],
   "source": [
    "data_color = np.append(\n",
    "    rupp_depth_simulations_filter_copy['cv'].to_numpy(),\n",
    "    neal_depth_simulations_filter_copy['cv'].to_numpy()\n",
    ") "
   ]
  },
  {
   "cell_type": "code",
   "execution_count": 21,
   "id": "3e61ae05",
   "metadata": {},
   "outputs": [
    {
     "data": {
      "text/plain": [
       "4.203897002928714"
      ]
     },
     "execution_count": 21,
     "metadata": {},
     "output_type": "execute_result"
    }
   ],
   "source": [
    "data_color.min()"
   ]
  },
  {
   "cell_type": "code",
   "execution_count": 33,
   "id": "a61e0e48",
   "metadata": {},
   "outputs": [
    {
     "data": {
      "image/png": "[encoded data removed]",
      "text/plain": [
       "<Figure size 1300x500 with 3 Axes>"
      ]
     },
     "metadata": {},
     "output_type": "display_data"
    }
   ],
   "source": [
    "from mpl_toolkits.axes_grid1.inset_locator import inset_axes\n",
    "from matplotlib_scalebar.scalebar import ScaleBar \n",
    "from matplotlib.colors import BoundaryNorm, ListedColormap\n",
    "\n",
    "\n",
    "fig, ax = plt.subplots(ncols=2, nrows=1, figsize=(13, 5))\n",
    "fig.subplots_adjust(hspace=0.8)\n",
    "\n",
    "\n",
    "# ------------------------------------------------------------\n",
    "\n",
    "data_001 = rupp_depth_simulations_filter_copy['cv'].to_numpy()\n",
    "\n",
    "map_range_001 = np.linspace(0, 1, 250)\n",
    "map_range_quantile_001 = np.quantile(data_color, map_range_001)\n",
    "map_level_001 = map_range_quantile_001\n",
    "norm_001 = BoundaryNorm(map_level_001, len(map_level_001) - 1)\n",
    "\n",
    "x_tick_range_pdf = [4.19, 4.951, 0.19]\n",
    "\n",
    "# ------------------------------------------------------------\n",
    "\n",
    "data_002 = neal_depth_simulations_filter_copy['cv'].to_numpy()\n",
    "\n",
    "map_range_002 = np.linspace(0, 1, 250)\n",
    "map_range_quantile_002 = np.quantile(data_color, map_range_002)\n",
    "map_level_002 = map_range_quantile_002\n",
    "norm_002 = BoundaryNorm(map_level_002, len(map_level_002) - 1)\n",
    "\n",
    "x_tick_range_pdf = [4.38, 5.181, 0.1]\n",
    "\n",
    "\n",
    "# -------------------------------------------------------------\n",
    "\n",
    "vmin = min(data_001.min(), data_002.min())\n",
    "vmax = max(data_001.max(), data_002.max())\n",
    "\n",
    "# -------------------------------------------------------------\n",
    "\n",
    "sc=ax[0].scatter(\n",
    "    rupp_coords_filter.x,\n",
    "    rupp_coords_filter.y,\n",
    "    c=data_001,\n",
    "    vmin=vmin, vmax=vmax,\n",
    "    cmap='viridis',\n",
    "#     norm=norm_001,\n",
    "    s=20\n",
    ")\n",
    "ax[0].set_title('(e)', fontsize=18, pad=10)\n",
    "\n",
    "# Remove grid background lines (including x, y lines)\n",
    "ax[0].spines['top'].set_visible(False)\n",
    "ax[0].spines['right'].set_visible(False)\n",
    "ax[0].spines['bottom'].set_visible(False)\n",
    "ax[0].spines['left'].set_visible(False)\n",
    "\n",
    "# Remove all labels and ticks of zoom axis\n",
    "ax[0].set_xticks([])\n",
    "ax[0].set_yticks([])\n",
    "ax[0].set_xlabel('')\n",
    "ax[0].set_ylabel('');\n",
    "\n",
    "# Add scale bar\n",
    "ax[0].add_artist(ScaleBar(\n",
    "    1,\n",
    "    font_properties={'weight': 'bold', 'size': 12},\n",
    "    pad=0.5,\n",
    "    length_fraction=0.1,\n",
    "    box_color=None,\n",
    "    box_alpha=0,\n",
    "    color='darkgreen',\n",
    "    scale_formatter=lambda value, unit: f'{value} {unit}',\n",
    "    location=3\n",
    "))\n",
    "\n",
    "\n",
    "# Arrow\n",
    "x_arrow_001, y_arrow_001, arrow_length_001 = 0.081, 0.14, 0.15\n",
    "ax[0].annotate(\n",
    "    'N', fontweight='bold', color='darkgreen',\n",
    "    xy=(x_arrow_001, y_arrow_001),\n",
    "    xytext=(x_arrow_001, y_arrow_001+arrow_length_001),\n",
    "    arrowprops=dict(arrowstyle='<-, head_width=0.5', facecolor='darkgreen', edgecolor='darkgreen', linewidth=2,\n",
    "                    mutation_scale=10),\n",
    "    ha='center', va='center', fontsize=12,\n",
    "    xycoords=ax[0].transAxes, zorder=5\n",
    ")\n",
    "\n",
    "\n",
    "# --------------------------------------------------------------\n",
    "# --------------------------------------------------------------\n",
    "\n",
    "\n",
    "\n",
    "sc = ax[1].scatter(\n",
    "    neal_coords_filter.x,\n",
    "    neal_coords_filter.y,\n",
    "    vmin=vmin, vmax=vmax,\n",
    "    c=data_002,\n",
    "    cmap='viridis',\n",
    "#     norm=norm_002,\n",
    "    s=20\n",
    ")\n",
    "ax[1].set_title('(f)', fontsize=18, pad=10)\n",
    "\n",
    "# Remove grid background lines (including x, y lines)\n",
    "ax[1].spines['top'].set_visible(False)\n",
    "ax[1].spines['right'].set_visible(False)\n",
    "ax[1].spines['bottom'].set_visible(False)\n",
    "ax[1].spines['left'].set_visible(False)\n",
    "\n",
    "# Remove all labels and ticks of zoom axis\n",
    "ax[1].set_xticks([])\n",
    "ax[1].set_yticks([])\n",
    "ax[1].set_xlabel('')\n",
    "ax[1].set_ylabel('');\n",
    "\n",
    "# Add scale bar\n",
    "ax[1].add_artist(ScaleBar(\n",
    "    1,\n",
    "    font_properties={'weight': 'bold', 'size': 12},\n",
    "    pad=0.5,\n",
    "    length_fraction=0.1,\n",
    "    box_color=None,\n",
    "    box_alpha=0,\n",
    "    color='darkgreen',\n",
    "    scale_formatter=lambda value, unit: f'{value} {unit}',\n",
    "    location=3\n",
    "))\n",
    "\n",
    "\n",
    "# Arrow\n",
    "x_arrow_002, y_arrow_002, arrow_length_002 = 0.081, 0.14, 0.15\n",
    "ax[1].annotate(\n",
    "    'N', fontweight='bold', color='darkgreen',\n",
    "    xy=(x_arrow_002, y_arrow_002),\n",
    "    xytext=(x_arrow_002, y_arrow_002+arrow_length_002),\n",
    "    arrowprops=dict(arrowstyle='<-, head_width=0.5', facecolor='darkgreen', edgecolor='darkgreen', linewidth=2,\n",
    "                    mutation_scale=10),\n",
    "    ha='center', va='center', fontsize=12,\n",
    "    xycoords=ax[1].transAxes, zorder=5\n",
    ")\n",
    "\n",
    "cbar = fig.colorbar(sc, ax=[ax[0], ax[1]], location='bottom',\n",
    "                    pad=0.19, fraction=0.1, aspect=60, shrink=1)\n",
    "cbar.set_ticks(np.linspace(4.204, 5.165, 11))  # Set tick locations\n",
    "cbar.ax.set_title('Coefficient of variation of WIDTH (%)', pad=15, fontsize=17)\n",
    "cbar.ax.tick_params(labelsize=13, pad=7, length=5)\n",
    "\n",
    "# Save fig\n",
    "fig.savefig(\n",
    "    r\"P:\\Martin_publication\\Bathymetry\\All_results\\cov_depth_spatial\\S3_width_depth_CoV.jpg\",\n",
    "    bbox_inches='tight', dpi=600\n",
    ")"
   ]
  },
  {
   "cell_type": "code",
   "execution_count": null,
   "id": "f116d45c",
   "metadata": {},
   "outputs": [],
   "source": []
  }
 ],
 "metadata": {
  "kernelspec": {
   "display_name": "Python [conda env:mluncertainty_001] *",
   "language": "python",
   "name": "conda-env-mluncertainty_001-py"
  },
  "language_info": {
   "codemirror_mode": {
    "name": "ipython",
    "version": 3
   },
   "file_extension": ".py",
   "mimetype": "text/x-python",
   "name": "python",
   "nbconvert_exporter": "python",
   "pygments_lexer": "ipython3",
   "version": "3.9.13"
  }
 },
 "nbformat": 4,
 "nbformat_minor": 5
}
